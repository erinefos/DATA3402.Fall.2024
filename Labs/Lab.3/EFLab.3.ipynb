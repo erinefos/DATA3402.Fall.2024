{
 "cells": [
  {
   "cell_type": "markdown",
   "metadata": {},
   "source": [
    "# Lab 3\n",
    "\n",
    "In this lab we will become familiar with distributions, histograms, and functional programming. Do not use numpy or any other library for this lab.\n",
    "\n",
    "Before that, lets get setup homework submission and submit your previous lab.  \n",
    "\n",
    "## Working on the Command-line.\n",
    "\n",
    "It is important for you to learn to work on the command line and to be familiar with the Unix environment (e.g. Linux, Mac OS, or Windows Linux Subsystem). We'll go over working on the command-line in detail later in the course.\n",
    "\n",
    "You are required to submit your work in this course via GitHub. Today in class, you will setup everything on the command-line.\n",
    "\n",
    "### Command-line basics\n",
    "\n",
    "There is plenty of material online that will help you figure out how to do various tasks on the command line. Commands you may need to know today:\n",
    "\n",
    "* `ls`: lists the contents of the current directory.\n",
    "* `pwd`: prints the path of the current directory.\n",
    "* `cd <directory>`: changes your current directory to the specified directory.\n",
    "* `cd ..`: changes current directory to the previous directory. Basically steps out of the current directory to the directory containing the current directory.\n",
    "* `mkdir <directory>`: create a new directory with the specified name.\n",
    "* `rmdir <directory>`: removes the specified directory. Note it has to be empty.\n",
    "* `rm <filename>`: deletes the specified file.\n",
    "* `mv <filename 1> <filename 1>`: Moves or renames a file.\n",
    "* `cp <filename 1> <filename 2>`: copies an file. If you just provide a path to a directory, it copies the file into that directory with the same filename. If you specifiy a new filename, the copy has a new name. For example `cp File.1.txt File.2.txt` creates a copy of `File.1.txt` with the name `File.2.txt`. Meanwhile `cp File.1.txt my_directory`, where `my_directory` is a directory, creates a copy of `File.1.txt` in directory `my_directory` with the name `File.1.txt`.\n",
    "\n",
    "For reference, here are some example resources I found by googling:\n",
    "\n",
    "* Paths and Wildcards: https://www.warp.dev/terminus/linux-wildcards\n",
    "* Basic commands like copy: https://kb.iu.edu/d/afsk\n",
    "* General introduction to shell: https://github-pages.ucl.ac.uk/RCPSTrainingMaterials/HPCandHTCusingLegion/2_intro_to_shell.html\n",
    "* Manual pages: https://www.geeksforgeeks.org/linux-man-page-entries-different-types/?ref=ml_lbp\n",
    "* Chaining commands: https://www.geeksforgeeks.org/chaining-commands-in-linux/?ref=ml_lbp\n",
    "* Piping: https://www.geeksforgeeks.org/piping-in-unix-or-linux/\n",
    "* Using sed: https://www.geeksforgeeks.org/sed-command-linux-set-2/?ref=ml_lbp\n",
    "* Various Unix commands: https://www.geeksforgeeks.org/linux-commands/?ref=lbp\n",
    "* Cheat sheets:\n",
    "    * https://www.stationx.net/unix-commands-cheat-sheet/\n",
    "    * https://cheatography.com/davechild/cheat-sheets/linux-command-line/\n",
    "    * https://www.theknowledgeacademy.com/blog/unix-commands-cheat-sheet/\n",
    "    \n",
    "These aren't necessarily the best resources. Feel free to search for better ones. Also, don't forget that Unix has built-in manual pages for all of its commands. Just type `man <command>` at the command prompt. Use the space-bar to scroll through the documentation and \"q\" to exit.\n",
    "\n",
    "\n",
    "### Setup and Submission\n",
    "\n",
    "Our course repository is public. The instructions here aim to have you setup a fork of the course repository. Unfortunately because you are forking a public repo, your fork will have to be public also. \n",
    "\n",
    "You should be familiar with git from the first semester of this course. I assume that you all have github accounts and have setup things to be able to [push to github using ssh](https://docs.github.com/en/github/authenticating-to-github/connecting-to-github-with-ssh). The instuctions here lead you to:\n",
    "\n",
    "We'll overview what you will do before going through step by step instructions.\n",
    "\n",
    "1. Setup:\n",
    "    1. Fork the class repository. Some directions in [fork-a-repo](https://docs.github.com/en/github/getting-started-with-github/fork-a-repo).\n",
    "    1. Create a directory on your personal system where you will keep all course materials.\n",
    "    1. In that directory, clone your fork of the repository.\n",
    "    1. Using `git remote`, set the upstream to be the class repo, so you can pull from the class and push to your fork.\n",
    "\n",
    "1. Submission:\n",
    "    1. Copy your solutions into the appropriate directory (e.g. into `Labs/Lab.2/`) and with appropriate filename `Lab.2.solution.ipynb'.\n",
    "    1. Commit / push your solutions.\n",
    "    1. Grant access to course instructors.\n",
    "\n",
    "Below are step by step instructions with examples (including example directory naming convention). Feel free to modify things as you see fit. \n",
    "\n",
    "#### Setup\n",
    "You should only need to follow this instructions once. Here are some useful git commands:\n",
    "\n",
    "* Git help: `git help`\n",
    "* Git remote help: `git help remote`\n",
    "* Check remote status: `git remote -v`\n",
    "* Add a remote: `git remote add <stream name> <repo URL>`\n",
    "* Add a remove: `git remote remove <stream name>`\n",
    "\n",
    "Steps:\n",
    "1. In a browser, log into GitHub and navigate to the [course repository](https://github.com/UTA-DataScience/DATA3402.Fall.2024).\n",
    "1. On the top right of the page, press the fork button to create a new fork into your own GitHub account.\n",
    "1. After successful fork, you should find the browser showing your fork of the course repository. Use the green \"Code\" button to copy path to the repo into your the clipboard of your computer.\n",
    "1. Open a shell on your personal computer.\n",
    "1. If you have not done so already, create a new directory/folder where you will keep all course material to navigate to it. For example: `mkdir Data-3402` and `cd Data-3402`.\n",
    "1. Clone your fork of the repository using `git clone` followed by the path you copied into your clipboard. (copy/paste)\n",
    "1. Paste the URL to your fork in the worksheet for the TAs and instructors.\n",
    "1. Now go into the directory of your clone (`cd DATA3402.Fall.2024`).\n",
    "1. Type `git remote -v` to see the current setup for fetch and pull.\n",
    "1. Note the URL you see. This should be the same as what you used for your clone for both push and fetch.\n",
    "1. Delete the origin remote using `git remote remove origin`.\n",
    "1. Add the course repo as your remote using `git remote add origin https://github.com/UTA-DataScience/DATA3402.Fall.2024.git`.\n",
    "1. Change the push to point to your fork. This means you will need the URL to your clone we copied earlier and confirmed as the original origin. The command will look something like: `git remote set-url --push origin  https://github.com/XXXXXX/DATA3402.Fall.2024.git`, where XXXXX is your username on GitHub.\n",
    "1. Note that if you setup everything correctly, you now should be able to do `git pull` to get updates from the course repo, and do `git push` to push your commits into your own fork.\n",
    "\n",
    "### Submission\n",
    "These instructions outline how you submit files. Some useful commands:\n",
    "* To add a file to local repository: `git add <file>`.\n",
    "* To commit all changed files into local repository: `git -a -m \"A message\"`. You need to provide some comment when you commit. \n",
    "* To push the commited files from the local repository to GitHub: `git push`.\n",
    "* To get updates from GitHub: `git pull`.\n",
    "\n",
    "Steps:\n",
    "1. To submit your labs, navigate to your clone of your fork of the course repository. \n",
    "1. Use `git pull` to make sure you have the latest updates. \n",
    "1. Make sure your copy of the lab your are working on is in the appropriate place in this clone. That means if you have the file elsewhere, copy it to the same directory in your clone of your fork. \n",
    "1. Note that in order to avoid future conflicts, you should always name your solution differently than the original file in the class repo. For example if your file is still named `Lab.2.ipynb` you should rename it using the `mv` command: `mv Lab.2.ipynb Lab.2.solution.ipynb`. \n",
    "1. Add and files you wish to submit into the repo. For example: `git add Labs/Lab.2/Lab.2.solution.ipynb`\n",
    "1. Commit any changes: `git commit -a -m \"Lab 2 updates\"`\n",
    "1. Push your changes: `git push`\n",
    "1. Check on github website that your solutions have been properly submitted.\n",
    "\n",
    "Before you leave the session today, make sure your GitHub Repo is setup. If you need to work further on your lab, navigate jupyter to the copy of the lab you just submitted and work there. Once done, repeat the commit and push commands to submit your updated solution. Note that lab 2 is due by midnight Monday 9/8/2024.\n"
   ]
  },
  {
   "cell_type": "markdown",
   "metadata": {},
   "source": [
    "### Uniform Distribution\n",
    "Lets start with generating some fake random data. You can get a random number between 0 and 1 using the python random module as follow:"
   ]
  },
  {
   "cell_type": "code",
   "execution_count": 3,
   "metadata": {},
   "outputs": [
    {
     "name": "stdout",
     "output_type": "stream",
     "text": [
      "The Value of x is 0.5349587103750107\n"
     ]
    }
   ],
   "source": [
    "import random\n",
    "x=random.random()\n",
    "print(\"The Value of x is\", x)"
   ]
  },
  {
   "cell_type": "markdown",
   "metadata": {},
   "source": [
    "Everytime you call random, you will get a new number.\n",
    "\n",
    "*Exercise 1:* Using random, write a function `generate_uniform(N, mymin, mymax)`, that returns a python list containing N random numbers between specified minimum and maximum value. Note that you may want to quickly work out on paper how to turn numbers between 0 and 1 to between other values. "
   ]
  },
  {
   "cell_type": "code",
   "execution_count": 5,
   "metadata": {},
   "outputs": [],
   "source": [
    "def generate_uniform(N,x_min,x_max):\n",
    "    out = []\n",
    "\n",
    "    # Creating a list of random variables\n",
    "    for _ in range(N):\n",
    "        # Generates a random number\n",
    "        random_number = random.random()\n",
    "        # Scales the random number based on the maximum and minimum value specified\n",
    "        scaled_number = x_min + (x_max - x_min) * random_number\n",
    "        out.append(scaled_number)\n",
    "        \n",
    "    return out"
   ]
  },
  {
   "cell_type": "code",
   "execution_count": 6,
   "metadata": {},
   "outputs": [
    {
     "name": "stdout",
     "output_type": "stream",
     "text": [
      "Data Type: <class 'list'>\n",
      "Data Length: 1000\n",
      "Type of Data Contents: <class 'float'>\n",
      "Data Minimum: -9.99148788415642\n",
      "Data Maximum: 9.99753283834487\n"
     ]
    }
   ],
   "source": [
    "# Test your solution here\n",
    "data=generate_uniform(1000,-10,10)\n",
    "print (\"Data Type:\", type(data))\n",
    "print (\"Data Length:\", len(data))\n",
    "if len(data)>0: \n",
    "    print (\"Type of Data Contents:\", type(data[0]))\n",
    "    print (\"Data Minimum:\", min(data))\n",
    "    print (\"Data Maximum:\", max(data))"
   ]
  },
  {
   "cell_type": "markdown",
   "metadata": {},
   "source": [
    "*Exercise 2a:* \n",
    "Write a function that computes the mean of values in a list. Recall the equation for the mean of a random variable $\\bf{x}$ computed on a data set of $n$ values $\\{ x_i \\} = \\{x_1, x_2, ..., x_n\\}$  is ${\\bf\\bar{x}} = \\frac{1}{n} \\sum_i^n x_i$."
   ]
  },
  {
   "cell_type": "code",
   "execution_count": 8,
   "metadata": {},
   "outputs": [],
   "source": [
    "def mean(data):\n",
    "    m = 0.\n",
    "\n",
    "    # The formula for mean\n",
    "    m = sum(data) / len(data)\n",
    "    \n",
    "    return m"
   ]
  },
  {
   "cell_type": "code",
   "execution_count": 9,
   "metadata": {},
   "outputs": [
    {
     "name": "stdout",
     "output_type": "stream",
     "text": [
      "Mean of Data: -0.01850435458273175\n"
     ]
    }
   ],
   "source": [
    "# Test your solution here\n",
    "print (\"Mean of Data:\", mean(data))"
   ]
  },
  {
   "cell_type": "markdown",
   "metadata": {},
   "source": [
    "*Exercise 2b:* \n",
    "Write a function that computes the variance of values in a list. Recall the equation for the variance of a random variable $\\bf{x}$ computed on a data set of $n$ values $\\{ x_i \\} = \\{x_1, x_2, ..., x_n\\}$  is ${\\bf\\langle x \\rangle} = \\frac{1}{n} \\sum_i^n (x_i - {\\bf\\bar{x}})$."
   ]
  },
  {
   "cell_type": "code",
   "execution_count": 11,
   "metadata": {},
   "outputs": [],
   "source": [
    "def variance(data):\n",
    "    m = 0.\n",
    "\n",
    "    # The formula for variance\n",
    "    m = sum((x - mean(data)) ** 2 for x in data) / len(data)\n",
    "    \n",
    "    return m"
   ]
  },
  {
   "cell_type": "code",
   "execution_count": 12,
   "metadata": {},
   "outputs": [
    {
     "name": "stdout",
     "output_type": "stream",
     "text": [
      "Variance of Data: 33.89773122953332\n"
     ]
    }
   ],
   "source": [
    "# Test your solution here\n",
    "print (\"Variance of Data:\", variance(data))"
   ]
  },
  {
   "cell_type": "markdown",
   "metadata": {},
   "source": [
    "## Histogramming"
   ]
  },
  {
   "cell_type": "markdown",
   "metadata": {},
   "source": [
    "*Exercise 3:* Write a function that bins the data so that you can create a histogram. An example of how to implement histogramming is the following logic:\n",
    "\n",
    "* User inputs a list of values `x` and optionally `n_bins` which defaults to 10.\n",
    "* If not supplied, find the minimum and maximum (`x_min`,`x_max`) of the values in x.\n",
    "* Determine the bin size (`bin_size`) by dividing the range of the function by the number of bins.\n",
    "* Create an empty list of zeros of size `n_bins`, call it `hist`.\n",
    "* Loop over the values in `x`\n",
    "    * Loop over the values in `hist` with index `i`:\n",
    "        * If x is between `x_min+i*bin_size` and `x_min+(i+1)*bin_size`, increment `hist[i].` \n",
    "        * For efficiency, try to use continue to goto the next bin and data point.\n",
    "* Return `hist` and the list corresponding of the bin edges (i.e. of `x_min+i*bin_size`).    "
   ]
  },
  {
   "cell_type": "code",
   "execution_count": 15,
   "metadata": {},
   "outputs": [],
   "source": [
    "def histogram(x,n_bins=10,x_min=None,x_max=None):\n",
    "\n",
    "    # Telling python that x is a list of numbers\n",
    "    x = list(x)\n",
    "    # Finding the minimum and maximum values\n",
    "    if x_min is None:\n",
    "        x_min = min(x)\n",
    "    if x_max is None:\n",
    "        x_max = max(x)\n",
    "\n",
    "    # Determining the bin size and the bin edges\n",
    "    bin_size = (x_max - x_min) / n_bins\n",
    "    bin_edges = [x_min + i * bin_size for i in range(n_bins + 1)]\n",
    "    \n",
    "    # Creating the empty list\n",
    "    hist = [0] * n_bins\n",
    "\n",
    "    # Loopty loop\n",
    "    for value in x:\n",
    "        if value == x_max:\n",
    "            hist[-1] += 1\n",
    "            continue\n",
    "        \n",
    "        for i in range(n_bins):\n",
    "            if bin_edges[i] <= value < bin_edges[i + 1]:\n",
    "                hist[i] += 1\n",
    "                break\n",
    "            \n",
    "    return hist, bin_edges"
   ]
  },
  {
   "cell_type": "code",
   "execution_count": 16,
   "metadata": {},
   "outputs": [
    {
     "name": "stdout",
     "output_type": "stream",
     "text": [
      "[12, 16, 7, 11, 15, 6, 8, 9, 14, 7, 7, 14, 9, 10, 9, 7, 7, 12, 12, 9, 7, 10, 4, 6, 9, 8, 8, 19, 14, 15, 11, 11, 9, 10, 10, 11, 10, 13, 16, 14, 10, 7, 6, 8, 7, 8, 10, 14, 12, 11, 10, 12, 8, 6, 14, 15, 11, 13, 7, 8, 8, 12, 1, 9, 10, 6, 13, 9, 9, 6, 7, 7, 12, 14, 11, 6, 9, 9, 9, 14, 14, 6, 10, 11, 8, 11, 8, 11, 9, 12, 11, 7, 6, 11, 17, 11, 7, 13, 12, 11]\n"
     ]
    }
   ],
   "source": [
    "# Test your solution here\n",
    "h,b=histogram(data,100)\n",
    "print(h)"
   ]
  },
  {
   "cell_type": "markdown",
   "metadata": {},
   "source": [
    "*Exercise 4:* Write a function that uses the histogram function in the previous exercise to create a text-based \"graph\". For example the output could look like the following:\n",
    "```\n",
    "[  0,  1] : ######\n",
    "[  1,  2] : #####\n",
    "[  2,  3] : ######\n",
    "[  3,  4] : ####\n",
    "[  4,  5] : ####\n",
    "[  5,  6] : ######\n",
    "[  6,  7] : #####\n",
    "[  7,  8] : ######\n",
    "[  8,  9] : ####\n",
    "[  9, 10] : #####\n",
    "```\n",
    "\n",
    "Where each line corresponds to a bin and the number of `#`'s are proportional to the value of the data in the bin. "
   ]
  },
  {
   "cell_type": "code",
   "execution_count": 18,
   "metadata": {},
   "outputs": [],
   "source": [
    "def draw_histogram(x,n_bins,x_min=None,x_max=None,character=\"#\",max_character_per_line=20):\n",
    "\n",
    "    # Using previous function\n",
    "    hist, bin_edges = histogram(x, n_bins, x_min, x_max)\n",
    "\n",
    "    max_count = max(hist)\n",
    "    \n",
    "    # Looping over the histogram\n",
    "    for i, count in enumerate(hist):\n",
    "        \n",
    "        # Calculates how many values are in each bin\n",
    "        num_chars = int((count / max_count) * max_character_per_line)\n",
    "        \n",
    "        # Creates readable bins\n",
    "        bin_range = f\"[{bin_edges[i]:4.1f}, {bin_edges[i+1]:4.1f}]\"\n",
    "        \n",
    "        # Prints the bins and the number of values in them, displays them as the specified character\n",
    "        print(f\"{bin_range} : {character * num_chars}\")\n",
    "        \n",
    "    return hist, bin_edges"
   ]
  },
  {
   "cell_type": "code",
   "execution_count": 19,
   "metadata": {},
   "outputs": [
    {
     "name": "stdout",
     "output_type": "stream",
     "text": [
      "[-10.0, -9.0] : ###################\n",
      "[-9.0, -8.0] : #############\n",
      "[-8.0, -7.0] : ###############\n",
      "[-7.0, -6.0] : ##############\n",
      "[-6.0, -5.0] : ###########\n",
      "[-5.0, -4.0] : ####################\n",
      "[-4.0, -3.0] : ###############\n",
      "[-3.0, -2.0] : ####################\n",
      "[-2.0, -1.0] : ###########\n",
      "[-1.0,  0.0] : #################\n",
      "[ 0.0,  1.0] : ###############\n",
      "[ 1.0,  2.0] : ################\n",
      "[ 2.0,  3.0] : ############\n",
      "[ 3.0,  4.0] : #############\n",
      "[ 4.0,  5.0] : ###############\n",
      "[ 5.0,  6.0] : ##############\n",
      "[ 6.0,  7.0] : ###############\n",
      "[ 7.0,  8.0] : ###############\n",
      "[ 8.0,  9.0] : ################\n",
      "[ 9.0, 10.0] : ################\n"
     ]
    },
    {
     "data": {
      "text/plain": [
       "([61,\n",
       "  44,\n",
       "  49,\n",
       "  47,\n",
       "  36,\n",
       "  64,\n",
       "  51,\n",
       "  64,\n",
       "  38,\n",
       "  55,\n",
       "  50,\n",
       "  54,\n",
       "  40,\n",
       "  43,\n",
       "  51,\n",
       "  47,\n",
       "  49,\n",
       "  51,\n",
       "  52,\n",
       "  54],\n",
       " [-9.99148788415642,\n",
       "  -8.992036848031356,\n",
       "  -7.992585811906292,\n",
       "  -6.993134775781226,\n",
       "  -5.993683739656162,\n",
       "  -4.994232703531098,\n",
       "  -3.9947816674060324,\n",
       "  -2.995330631280968,\n",
       "  -1.9958795951559036,\n",
       "  -0.9964285590308393,\n",
       "  0.0030224770942250956,\n",
       "  1.0024735132192895,\n",
       "  2.0019245493443556,\n",
       "  3.00137558546942,\n",
       "  4.000826621594484,\n",
       "  5.000277657719549,\n",
       "  5.999728693844613,\n",
       "  6.999179729969679,\n",
       "  7.998630766094742,\n",
       "  8.998081802219808,\n",
       "  9.99753283834487])"
      ]
     },
     "execution_count": 19,
     "metadata": {},
     "output_type": "execute_result"
    }
   ],
   "source": [
    "# Test your solution here\n",
    "draw_histogram(data,20)"
   ]
  },
  {
   "cell_type": "markdown",
   "metadata": {},
   "source": [
    "## Functional Programming\n",
    "\n",
    "*Exercise 5:* Write a function the applies a booling function (that returns true/false) to every element in data, and return a list of indices of elements where the result was true. Use this function to find the indices of entries greater than 0.5."
   ]
  },
  {
   "cell_type": "code",
   "execution_count": 21,
   "metadata": {},
   "outputs": [],
   "source": [
    "def where(mylist,myfunc):\n",
    "    out= []\n",
    "\n",
    "    # Looping of the data\n",
    "    for i, value in enumerate(mylist):\n",
    "        \n",
    "        # Checks if the value returns true\n",
    "        if myfunc(value):\n",
    "            out.append(i)\n",
    "            \n",
    "    return out"
   ]
  },
  {
   "cell_type": "code",
   "execution_count": 22,
   "metadata": {},
   "outputs": [
    {
     "data": {
      "text/plain": [
       "[0, 3, 4]"
      ]
     },
     "execution_count": 22,
     "metadata": {},
     "output_type": "execute_result"
    }
   ],
   "source": [
    "# Test your solution here\n",
    "mylist = [1.0, 0.3, 0, 0.7, 1.5]\n",
    "where(mylist, lambda x: x > 0.5)"
   ]
  },
  {
   "cell_type": "markdown",
   "metadata": {},
   "source": [
    "*Exercise 6:* The `inrange(mymin,mymax)` function below returns a function that tests if it's input is between the specified values. Write corresponding functions that test:\n",
    "* Even\n",
    "* Odd\n",
    "* Greater than\n",
    "* Less than\n",
    "* Equal\n",
    "* Divisible by"
   ]
  },
  {
   "cell_type": "code",
   "execution_count": 24,
   "metadata": {},
   "outputs": [],
   "source": [
    "def in_range(mymin,mymax):\n",
    "    def testrange(x):\n",
    "        return x<mymax and x>=mymin\n",
    "    return testrange"
   ]
  },
  {
   "cell_type": "code",
   "execution_count": 25,
   "metadata": {},
   "outputs": [
    {
     "name": "stdout",
     "output_type": "stream",
     "text": [
      "True True False False False\n",
      "False False True True False\n",
      "Number of Entries passing F1: 492\n",
      "Number of Entries passing F2: 0\n"
     ]
    }
   ],
   "source": [
    "# Examples:\n",
    "F1 = in_range(0,10)\n",
    "F2 = in_range(10,20)\n",
    "\n",
    "# Test of in_range\n",
    "print (F1(0), F1(1), F1(10), F1(15), F1(20))\n",
    "print (F2(0), F2(1), F2(10), F2(15), F2(20))\n",
    "\n",
    "print (\"Number of Entries passing F1:\", len(where(data,F1)))\n",
    "print (\"Number of Entries passing F2:\", len(where(data,F2)))"
   ]
  },
  {
   "cell_type": "code",
   "execution_count": 26,
   "metadata": {},
   "outputs": [],
   "source": [
    "# Even\n",
    "def is_even(x):\n",
    "    return x % 2 == 0\n",
    "        \n",
    "# Odd\n",
    "def is_odd(x):\n",
    "    return x % 2 != 0\n",
    "\n",
    "# Greater than\n",
    "def is_greater(x, value):\n",
    "    return x > value\n",
    "    \n",
    "# Less than\n",
    "def is_less(x, value):\n",
    "    return x < value\n",
    "    \n",
    "# Equal\n",
    "def is_equal(x, value):\n",
    "    return x == value\n",
    "    \n",
    "# Divisible by\n",
    "def is_divisible(x, value):\n",
    "    return x % value == 0"
   ]
  },
  {
   "cell_type": "code",
   "execution_count": 27,
   "metadata": {},
   "outputs": [],
   "source": [
    "# Test your solution\n",
    "x = 32\n",
    "value = 16"
   ]
  },
  {
   "cell_type": "code",
   "execution_count": 28,
   "metadata": {},
   "outputs": [
    {
     "name": "stdout",
     "output_type": "stream",
     "text": [
      "True\n",
      "False\n",
      "True\n",
      "False\n",
      "False\n",
      "True\n"
     ]
    }
   ],
   "source": [
    "print(is_even(x))\n",
    "print(is_odd(x))\n",
    "print(is_greater(x, value))\n",
    "print(is_less(x, value))\n",
    "print(is_equal(x, value))\n",
    "print(is_divisible(x, value))"
   ]
  },
  {
   "cell_type": "markdown",
   "metadata": {},
   "source": [
    "*Exercise 7:* Repeat the previous exercise using `lambda` and the built-in python functions sum and map instead of your solution above. "
   ]
  },
  {
   "cell_type": "code",
   "execution_count": 30,
   "metadata": {},
   "outputs": [],
   "source": [
    "lambda_even = lambda x: x % 2 == 0\n",
    "\n",
    "lambda_odd = lambda x: x % 2 != 0\n",
    "\n",
    "lambda_greater = lambda x, value: x > value\n",
    "\n",
    "lambda_less = lambda x, value: x < value\n",
    "\n",
    "lambda_equal = lambda x, value: x == value\n",
    "\n",
    "lambda_divisible = lambda x, value: x % value == 0"
   ]
  },
  {
   "cell_type": "code",
   "execution_count": 31,
   "metadata": {},
   "outputs": [],
   "source": [
    "# Testing solutions\n",
    "numbers = [0, 1, 2, 3, 4]"
   ]
  },
  {
   "cell_type": "code",
   "execution_count": 32,
   "metadata": {},
   "outputs": [
    {
     "name": "stdout",
     "output_type": "stream",
     "text": [
      "[True, False, True, False, True]\n",
      "[False, True, False, True, False]\n",
      "[False, False, False, False, False]\n",
      "[True, True, True, True, True]\n",
      "[False, True, False, False, False]\n",
      "[True, False, True, False, True]\n",
      "3\n"
     ]
    }
   ],
   "source": [
    "# What numbers are even?\n",
    "even_list = list(map(lambda_even, numbers))\n",
    "print(even_list)\n",
    "\n",
    "# What numbers are odd?\n",
    "odd_list = list(map(lambda_odd, numbers))\n",
    "print(odd_list)\n",
    "\n",
    "# What numbers are greater than 5?\n",
    "greater_list = list(map(lambda x: lambda_greater(x, 5), numbers))\n",
    "print(greater_list)\n",
    "\n",
    "# What numbers are less than 5?\n",
    "less_list = list(map(lambda x: lambda_less(x, 5), numbers))\n",
    "print(less_list)\n",
    "\n",
    "# What numbers are equal to 1?\n",
    "equal_list = list(map(lambda x: lambda_equal(x, 1), numbers))\n",
    "print(equal_list)\n",
    "\n",
    "# What numbers are divisible by 2?\n",
    "divisible_list = list(map(lambda x: lambda_divisible(x, 2), numbers))\n",
    "print(divisible_list)\n",
    "\n",
    "# How many numbers are even?\n",
    "count_even = sum(map(lambda_even, numbers))\n",
    "print(count_even)"
   ]
  },
  {
   "cell_type": "markdown",
   "metadata": {},
   "source": [
    "## Monte Carlo\n",
    "\n",
    "*Exercise 8:* Write a \"generator\" function called `generate_function(func,x_min,x_max,N)`, that instead of generating a flat distribution, generates a distribution with functional form coded in `func`. Note that `func` will always be > 0.  \n",
    "\n",
    "Use the test function below and your histogramming functions above to demonstrate that your generator is working properly.\n",
    "\n",
    "Hint: A simple, but slow, solution is to a draw random number `test_x` within the specified range and another number `p` between the `min` and `max` of the function (which you will have to determine). If `p<=function(test_x)`, then place `test_x` on the output. If not, repeat the process, drawing two new numbers. Repeat until you have the specified number of generated numbers, `N`. For this problem, it's OK to determine the `min` and `max` by numerically sampling the function.  "
   ]
  },
  {
   "cell_type": "code",
   "execution_count": 34,
   "metadata": {},
   "outputs": [],
   "source": [
    "def generate_function(func,x_min,x_max,N=1000):\n",
    "    out = list()\n",
    "    while len(out) < N:\n",
    "        test_x = random.uniform(x_min, x_max)\n",
    "        p = random.uniform(x_min, x_max)\n",
    "        if p <= func(test_x):\n",
    "            out.append(test_x)\n",
    "    return out"
   ]
  },
  {
   "cell_type": "code",
   "execution_count": 35,
   "metadata": {},
   "outputs": [],
   "source": [
    "# A test function\n",
    "def test_func(x,a=1,b=1):\n",
    "    return abs(a*x+b)"
   ]
  },
  {
   "cell_type": "markdown",
   "metadata": {},
   "source": [
    "*Exercise 9:* Use your function to generate 1000 numbers that are normal distributed, using the `gaussian` function below. Confirm the mean and variance of the data is close to the mean and variance you specify when building the Gaussian. Histogram the data. "
   ]
  },
  {
   "cell_type": "code",
   "execution_count": 37,
   "metadata": {},
   "outputs": [],
   "source": [
    "import math\n",
    "\n",
    "def gaussian(mean, sigma):\n",
    "    def f(x):\n",
    "        return math.exp(-((x-mean)**2)/(2*sigma**2))/math.sqrt(math.pi*sigma)\n",
    "    return f\n",
    "\n",
    "# Example Instantiation\n",
    "g1=gaussian(0,1)\n",
    "g2=gaussian(10,3)"
   ]
  },
  {
   "cell_type": "code",
   "execution_count": 38,
   "metadata": {},
   "outputs": [],
   "source": [
    "data_g1 = generate_function(g1, -1, 2, N=1000)\n",
    "data_g2 = generate_function(g2, 0, 20, N=1000)"
   ]
  },
  {
   "cell_type": "code",
   "execution_count": 39,
   "metadata": {},
   "outputs": [
    {
     "name": "stdout",
     "output_type": "stream",
     "text": [
      "0.4058888262456791\n",
      "0.6717480834547601\n"
     ]
    }
   ],
   "source": [
    "# Checking g1 data\n",
    "print(mean(data_g1))\n",
    "print(variance(data_g1))"
   ]
  },
  {
   "cell_type": "code",
   "execution_count": 40,
   "metadata": {},
   "outputs": [
    {
     "name": "stdout",
     "output_type": "stream",
     "text": [
      "9.991116858850166\n",
      "9.352538242011809\n"
     ]
    }
   ],
   "source": [
    "# Checking g2 data\n",
    "print(mean(data_g2))\n",
    "print(variance(data_g2))"
   ]
  },
  {
   "cell_type": "code",
   "execution_count": 41,
   "metadata": {},
   "outputs": [
    {
     "name": "stdout",
     "output_type": "stream",
     "text": [
      "[-1.0, -0.8] : ###########\n",
      "[-0.8, -0.7] : ################\n",
      "[-0.7, -0.5] : ###################\n",
      "[-0.5, -0.4] : ##################\n",
      "[-0.4, -0.2] : ################\n",
      "[-0.2, -0.1] : ###################\n",
      "[-0.1,  0.0] : ###############\n",
      "[ 0.0,  0.2] : ################\n",
      "[ 0.2,  0.3] : ###################\n",
      "[ 0.3,  0.5] : #################\n",
      "[ 0.5,  0.6] : ####################\n",
      "[ 0.6,  0.8] : ###############\n",
      "[ 0.8,  0.9] : ############\n",
      "[ 0.9,  1.1] : ############\n",
      "[ 1.1,  1.2] : ##########\n",
      "[ 1.2,  1.4] : ###############\n",
      "[ 1.4,  1.5] : ##################\n",
      "[ 1.5,  1.7] : #############\n",
      "[ 1.7,  1.8] : ########\n",
      "[ 1.8,  2.0] : ##########\n"
     ]
    },
    {
     "data": {
      "text/plain": [
       "([36,\n",
       "  53,\n",
       "  64,\n",
       "  59,\n",
       "  54,\n",
       "  63,\n",
       "  50,\n",
       "  54,\n",
       "  62,\n",
       "  58,\n",
       "  65,\n",
       "  51,\n",
       "  41,\n",
       "  39,\n",
       "  33,\n",
       "  51,\n",
       "  61,\n",
       "  43,\n",
       "  29,\n",
       "  34],\n",
       " [-0.9971821193910638,\n",
       "  -0.8476814952915979,\n",
       "  -0.6981808711921318,\n",
       "  -0.5486802470926658,\n",
       "  -0.39917962299319987,\n",
       "  -0.2496789988937339,\n",
       "  -0.10017837479426783,\n",
       "  0.04932224930519802,\n",
       "  0.1988228734046641,\n",
       "  0.34832349750413016,\n",
       "  0.497824121603596,\n",
       "  0.6473247457030621,\n",
       "  0.7968253698025282,\n",
       "  0.946325993901994,\n",
       "  1.09582661800146,\n",
       "  1.245327242100926,\n",
       "  1.3948278662003921,\n",
       "  1.5443284902998582,\n",
       "  1.6938291143993243,\n",
       "  1.84332973849879,\n",
       "  1.992830362598256])"
      ]
     },
     "execution_count": 41,
     "metadata": {},
     "output_type": "execute_result"
    }
   ],
   "source": [
    "draw_histogram(data_g1, 20)"
   ]
  },
  {
   "cell_type": "code",
   "execution_count": 70,
   "metadata": {},
   "outputs": [
    {
     "name": "stdout",
     "output_type": "stream",
     "text": [
      "[ 0.8,  1.7] : \n",
      "[ 1.7,  2.7] : \n",
      "[ 2.7,  3.6] : ##\n",
      "[ 3.6,  4.6] : ##\n",
      "[ 4.6,  5.6] : #####\n",
      "[ 5.6,  6.5] : ########\n",
      "[ 6.5,  7.5] : ###########\n",
      "[ 7.5,  8.4] : ################\n",
      "[ 8.4,  9.4] : ###################\n",
      "[ 9.4, 10.4] : #################\n",
      "[10.4, 11.3] : ####################\n",
      "[11.3, 12.3] : #################\n",
      "[12.3, 13.3] : ##########\n",
      "[13.3, 14.2] : #############\n",
      "[14.2, 15.2] : #####\n",
      "[15.2, 16.1] : ###\n",
      "[16.1, 17.1] : #\n",
      "[17.1, 18.1] : #\n",
      "[18.1, 19.0] : \n",
      "[19.0, 20.0] : \n"
     ]
    },
    {
     "data": {
      "text/plain": [
       "([4,\n",
       "  6,\n",
       "  15,\n",
       "  15,\n",
       "  35,\n",
       "  56,\n",
       "  71,\n",
       "  105,\n",
       "  124,\n",
       "  109,\n",
       "  126,\n",
       "  109,\n",
       "  64,\n",
       "  84,\n",
       "  37,\n",
       "  19,\n",
       "  11,\n",
       "  8,\n",
       "  0,\n",
       "  2],\n",
       " [0.7511920948295114,\n",
       "  1.7126543972880173,\n",
       "  2.6741166997465236,\n",
       "  3.6355790022050294,\n",
       "  4.597041304663535,\n",
       "  5.5585036071220415,\n",
       "  6.519965909580547,\n",
       "  7.481428212039052,\n",
       "  8.44289051449756,\n",
       "  9.404352816956065,\n",
       "  10.36581511941457,\n",
       "  11.327277421873076,\n",
       "  12.288739724331583,\n",
       "  13.250202026790088,\n",
       "  14.211664329248594,\n",
       "  15.1731266317071,\n",
       "  16.134588934165606,\n",
       "  17.096051236624113,\n",
       "  18.05751353908262,\n",
       "  19.018975841541124,\n",
       "  19.98043814399963])"
      ]
     },
     "execution_count": 70,
     "metadata": {},
     "output_type": "execute_result"
    }
   ],
   "source": [
    "draw_histogram(data_g2, 20)"
   ]
  },
  {
   "cell_type": "markdown",
   "metadata": {},
   "source": [
    "*Exercise 9:* Combine your `generate_function`, `where`, and `in_range` functions above to create an integrate function. Use your integrate function to show that approximately 68% of Normal distribution is within one variance."
   ]
  },
  {
   "cell_type": "code",
   "execution_count": 83,
   "metadata": {},
   "outputs": [],
   "source": [
    "def integrate(func, x_min, x_max, n_points = 1000):\n",
    "    data = generate_function(func, x_min, x_max, N=n_points)\n",
    "\n",
    "    mean = 10\n",
    "    sigma = 3\n",
    "    \n",
    "    range_func = in_range(mean - sigma, mean + sigma)\n",
    "    in_range_indices = where(data, range_func)\n",
    "    integral = len(in_range_indices) / len(data)\n",
    "    return integral"
   ]
  },
  {
   "cell_type": "code",
   "execution_count": 85,
   "metadata": {},
   "outputs": [
    {
     "ename": "TypeError",
     "evalue": "'list' object is not callable",
     "output_type": "error",
     "traceback": [
      "\u001b[0;31m---------------------------------------------------------------------------\u001b[0m",
      "\u001b[0;31mTypeError\u001b[0m                                 Traceback (most recent call last)",
      "Cell \u001b[0;32mIn[85], line 1\u001b[0m\n\u001b[0;32m----> 1\u001b[0m integral \u001b[38;5;241m=\u001b[39m integrate(data_g2, \u001b[38;5;241m0\u001b[39m, \u001b[38;5;241m20\u001b[39m, n_points \u001b[38;5;241m=\u001b[39m \u001b[38;5;241m1000\u001b[39m)\n\u001b[1;32m      2\u001b[0m \u001b[38;5;28mprint\u001b[39m(\u001b[38;5;124mf\u001b[39m\u001b[38;5;124m\"\u001b[39m\u001b[38;5;124mApproximate fraction of data within one standard deviation: \u001b[39m\u001b[38;5;132;01m{\u001b[39;00mintegral\u001b[38;5;250m \u001b[39m\u001b[38;5;241m*\u001b[39m\u001b[38;5;250m \u001b[39m\u001b[38;5;241m100\u001b[39m\u001b[38;5;132;01m:\u001b[39;00m\u001b[38;5;124m.2f\u001b[39m\u001b[38;5;132;01m}\u001b[39;00m\u001b[38;5;124m%\u001b[39m\u001b[38;5;124m\"\u001b[39m)\n",
      "Cell \u001b[0;32mIn[83], line 2\u001b[0m, in \u001b[0;36mintegrate\u001b[0;34m(func, x_min, x_max, n_points)\u001b[0m\n\u001b[1;32m      1\u001b[0m \u001b[38;5;28;01mdef\u001b[39;00m \u001b[38;5;21mintegrate\u001b[39m(func, x_min, x_max, n_points \u001b[38;5;241m=\u001b[39m \u001b[38;5;241m1000\u001b[39m):\n\u001b[0;32m----> 2\u001b[0m     data \u001b[38;5;241m=\u001b[39m generate_function(func, x_min, x_max, N\u001b[38;5;241m=\u001b[39mn_points)\n\u001b[1;32m      4\u001b[0m     mean \u001b[38;5;241m=\u001b[39m \u001b[38;5;241m10\u001b[39m\n\u001b[1;32m      5\u001b[0m     sigma \u001b[38;5;241m=\u001b[39m \u001b[38;5;241m3\u001b[39m\n",
      "Cell \u001b[0;32mIn[34], line 6\u001b[0m, in \u001b[0;36mgenerate_function\u001b[0;34m(func, x_min, x_max, N)\u001b[0m\n\u001b[1;32m      4\u001b[0m     test_x \u001b[38;5;241m=\u001b[39m random\u001b[38;5;241m.\u001b[39muniform(x_min, x_max)\n\u001b[1;32m      5\u001b[0m     p \u001b[38;5;241m=\u001b[39m random\u001b[38;5;241m.\u001b[39muniform(x_min, x_max)\n\u001b[0;32m----> 6\u001b[0m     \u001b[38;5;28;01mif\u001b[39;00m p \u001b[38;5;241m<\u001b[39m\u001b[38;5;241m=\u001b[39m func(test_x):\n\u001b[1;32m      7\u001b[0m         out\u001b[38;5;241m.\u001b[39mappend(test_x)\n\u001b[1;32m      8\u001b[0m \u001b[38;5;28;01mreturn\u001b[39;00m out\n",
      "\u001b[0;31mTypeError\u001b[0m: 'list' object is not callable"
     ]
    }
   ],
   "source": [
    "integral = integrate(data_g2, 0, 20, n_points = 1000)\n",
    "print(f\"Approximate fraction of data within one standard deviation: {integral * 100:.2f}%\")"
   ]
  },
  {
   "cell_type": "code",
   "execution_count": null,
   "metadata": {},
   "outputs": [],
   "source": []
  }
 ],
 "metadata": {
  "kernelspec": {
   "display_name": "Python 3 (ipykernel)",
   "language": "python",
   "name": "python3"
  },
  "language_info": {
   "codemirror_mode": {
    "name": "ipython",
    "version": 3
   },
   "file_extension": ".py",
   "mimetype": "text/x-python",
   "name": "python",
   "nbconvert_exporter": "python",
   "pygments_lexer": "ipython3",
   "version": "3.11.7"
  }
 },
 "nbformat": 4,
 "nbformat_minor": 4
}
