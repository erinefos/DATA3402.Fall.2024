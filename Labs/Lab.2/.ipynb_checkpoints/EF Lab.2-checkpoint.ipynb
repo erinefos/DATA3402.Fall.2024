{
 "cells": [
  {
   "cell_type": "markdown",
   "metadata": {},
   "source": [
    "## Lab 2- Tic Tac Toe\n",
    "\n",
    "In this lab your will build a n x n Tic Tac Toe game. As you do the exercises, make sure your solutions work for any size Tic Tac Toe game. "
   ]
  },
  {
   "cell_type": "markdown",
   "metadata": {},
   "source": [
    "*Exercise 1:* Write a function that creates an n by n matrix (of list of lists) which will represent the state of a Tie Tac Toe game. Let 0, 1, and 2 represent empty, \"X\", and \"O\", respectively."
   ]
  },
  {
   "cell_type": "code",
   "execution_count": 3,
   "metadata": {},
   "outputs": [],
   "source": [
    "def print_message(message,verbose=True):\n",
    "    if verbose:\n",
    "        print(message)"
   ]
  },
  {
   "cell_type": "code",
   "execution_count": 4,
   "metadata": {},
   "outputs": [],
   "source": [
    "# Symbols\n",
    "empty = 0\n",
    "X = 1\n",
    "O = 2\n",
    "\n",
    "size = 5"
   ]
  },
  {
   "cell_type": "code",
   "execution_count": 5,
   "metadata": {},
   "outputs": [],
   "source": [
    "# Empty tic tac toe board creation\n",
    "def make_tictactoe_board(size):\n",
    "    board=[[empty]*size for i in range(size)]\n",
    "    \n",
    "    # So the rows print on seperate lines because smaller boards wouldn't :(\n",
    "    for row in board:\n",
    "        print(row)\n",
    "        \n",
    "    return board"
   ]
  },
  {
   "cell_type": "code",
   "execution_count": 6,
   "metadata": {},
   "outputs": [
    {
     "name": "stdout",
     "output_type": "stream",
     "text": [
      "[0, 0, 0, 0, 0]\n",
      "[0, 0, 0, 0, 0]\n",
      "[0, 0, 0, 0, 0]\n",
      "[0, 0, 0, 0, 0]\n",
      "[0, 0, 0, 0, 0]\n"
     ]
    },
    {
     "data": {
      "text/plain": [
       "[[0, 0, 0, 0, 0],\n",
       " [0, 0, 0, 0, 0],\n",
       " [0, 0, 0, 0, 0],\n",
       " [0, 0, 0, 0, 0],\n",
       " [0, 0, 0, 0, 0]]"
      ]
     },
     "execution_count": 6,
     "metadata": {},
     "output_type": "execute_result"
    }
   ],
   "source": [
    "board_exercise1 = make_tictactoe_board(size)\n",
    "board_exercise1"
   ]
  },
  {
   "cell_type": "markdown",
   "metadata": {},
   "source": [
    "*Exercise 2:* Write a function that takes 2 integers `n` and `m` as input and draws a `n` by `m` game board. For example the following is a 3x3 board:\n",
    "```\n",
    "   --- --- --- \n",
    "  |   |   |   | \n",
    "   --- --- ---  \n",
    "  |   |   |   | \n",
    "   --- --- ---  \n",
    "  |   |   |   | \n",
    "   --- --- --- \n",
    "   ```"
   ]
  },
  {
   "cell_type": "code",
   "execution_count": 8,
   "metadata": {},
   "outputs": [],
   "source": [
    "def draw_a_board(n, m):\n",
    "    \n",
    "    # Loops for as many n rows we have\n",
    "    for i in range(n):\n",
    "        \n",
    "        # Draws the top of the boxes\n",
    "        print(' ---' * m)\n",
    "        \n",
    "        # Draws the lines seperating the board boxes and the outsides\n",
    "        print('|   ' * (m + 1))\n",
    "        \n",
    "    # Draws the bottom of the boxes seperately so it is not repeated in the middle\n",
    "    print(' ---' * m)"
   ]
  },
  {
   "cell_type": "code",
   "execution_count": 9,
   "metadata": {},
   "outputs": [
    {
     "name": "stdout",
     "output_type": "stream",
     "text": [
      " --- --- ---\n",
      "|   |   |   |   \n",
      " --- --- ---\n",
      "|   |   |   |   \n",
      " --- --- ---\n",
      "|   |   |   |   \n",
      " --- --- ---\n",
      "|   |   |   |   \n",
      " --- --- ---\n",
      "|   |   |   |   \n",
      " --- --- ---\n"
     ]
    }
   ],
   "source": [
    "# Doing a 5 by 3 board as an example\n",
    "draw_a_board(5,3)"
   ]
  },
  {
   "cell_type": "markdown",
   "metadata": {},
   "source": [
    "*Exercise 3:* Modify exercise 2, so that it takes a matrix of the form from exercise 1 and draws a tic-tac-tie board with \"X\"s and \"O\"s.  "
   ]
  },
  {
   "cell_type": "code",
   "execution_count": 11,
   "metadata": {},
   "outputs": [],
   "source": [
    "def draw_a_board_modified(board):\n",
    "    \n",
    "    # Counts the number of rows and columns from our matrix\n",
    "    n = len(board)\n",
    "    m = len(board[0])\n",
    "    \n",
    "    # Symbols\n",
    "    symbols = {0 : ' ', 1 : 'X', 2 : 'O'}\n",
    "\n",
    "    for i in range(n):\n",
    "        \n",
    "        # Draws the top of the boxes\n",
    "        print(' ---' * m)\n",
    "        \n",
    "        # Draws the lines seperating the board boxes and the outsides\n",
    "        row = '|'\n",
    "        \n",
    "        # Adds the symbols based off the given matrix\n",
    "        for j in range(m):\n",
    "            row += f' { symbols[board[i][j]]} |'\n",
    "        print(row)\n",
    "        \n",
    "    # Draws the bottom of the boxes seperately so it is not repeated in the middle\n",
    "    print(' ---' * m)"
   ]
  },
  {
   "cell_type": "code",
   "execution_count": 12,
   "metadata": {},
   "outputs": [
    {
     "name": "stdout",
     "output_type": "stream",
     "text": [
      " --- --- ---\n",
      "|   | X | O |\n",
      " --- --- ---\n",
      "| X | O |   |\n",
      " --- --- ---\n",
      "| X |   | O |\n",
      " --- --- ---\n"
     ]
    }
   ],
   "source": [
    "# Random matrix to show the function\n",
    "matrix_exercise3 = [[0, 1, 2],\n",
    "        [1, 2, 0],\n",
    "        [1, 0, 2]]\n",
    "\n",
    "board_exercise3 = draw_a_board_modified(matrix_exercise3)\n",
    "board_exercise3"
   ]
  },
  {
   "cell_type": "markdown",
   "metadata": {},
   "source": [
    "*Exercise 4:* Write a function that takes a `n` by `n` matrix representing a tic-tac-toe game, and returns -1, 0, 1, or 2 indicating the game is incomplete, the game is a draw, player 1 has won, or player 2 has one, respectively. Here are some example inputs you can use to test your code:"
   ]
  },
  {
   "cell_type": "code",
   "execution_count": 14,
   "metadata": {},
   "outputs": [],
   "source": [
    "def tictactoe_winner(board):\n",
    "    # Number of rows\n",
    "    n = len(board)\n",
    "\n",
    "    # A function to make checking for a winner easier\n",
    "    def all_same(lst):\n",
    "        return lst.count(lst[0]) == len(lst) and lst[0] != 0\n",
    "\n",
    "    # Checks rows for a winner\n",
    "    for row in board:\n",
    "        if all_same(row):\n",
    "            return row[0]\n",
    "\n",
    "    # Checks columns for a winner\n",
    "    for col in range(n):\n",
    "        if all_same([board[row][col] for row in range(n)]):\n",
    "            return board[0][col]\n",
    "\n",
    "    # Checks the right to left diagonal for a winner\n",
    "    if all_same([board[i][i] for i in range(n)]):\n",
    "        return board[0][0]\n",
    "\n",
    "    # Checks the left to right diagonal for a winner\n",
    "    if all_same([board[i][n - 1 - i] for i in range(n)]):\n",
    "        return board[0][n - 1]\n",
    "\n",
    "    # If there are no winners yet, this checks if the board is incomplete\n",
    "    if any(0 in row for row in board):\n",
    "        return -1\n",
    "\n",
    "    # The board is complete and no winners so it is a draw!\n",
    "    return 0"
   ]
  },
  {
   "cell_type": "code",
   "execution_count": 15,
   "metadata": {},
   "outputs": [],
   "source": [
    "winner_is_2 = [[2, 2, 0],\n",
    "\t[2, 1, 0],\n",
    "\t[2, 1, 1]]\n",
    "\n",
    "winner_is_1 = [[1, 2, 0],\n",
    "\t[2, 1, 0],\n",
    "\t[2, 1, 1]]\n",
    "\n",
    "winner_is_also_1 = [[0, 1, 0],\n",
    "\t[2, 1, 0],\n",
    "\t[2, 1, 1]]\n",
    "\n",
    "no_winner = [[1, 2, 0],\n",
    "\t[2, 1, 0],\n",
    "\t[2, 1, 2]]\n",
    "\n",
    "also_no_winner = [[1, 2, 0],\n",
    "\t[2, 1, 0],\n",
    "\t[2, 1, 0]]\n",
    "\n",
    "# Made my own to test for a draw\n",
    "draw = [[1, 2, 1],\n",
    "       [1, 2, 2],\n",
    "       [2, 1, 1]]"
   ]
  },
  {
   "cell_type": "code",
   "execution_count": 16,
   "metadata": {},
   "outputs": [
    {
     "data": {
      "text/plain": [
       "-1"
      ]
     },
     "execution_count": 16,
     "metadata": {},
     "output_type": "execute_result"
    }
   ],
   "source": [
    "tictactoe_winner(no_winner)"
   ]
  },
  {
   "cell_type": "code",
   "execution_count": 17,
   "metadata": {},
   "outputs": [
    {
     "data": {
      "text/plain": [
       "0"
      ]
     },
     "execution_count": 17,
     "metadata": {},
     "output_type": "execute_result"
    }
   ],
   "source": [
    "tictactoe_winner(draw)"
   ]
  },
  {
   "cell_type": "code",
   "execution_count": 18,
   "metadata": {},
   "outputs": [
    {
     "data": {
      "text/plain": [
       "1"
      ]
     },
     "execution_count": 18,
     "metadata": {},
     "output_type": "execute_result"
    }
   ],
   "source": [
    "tictactoe_winner(winner_is_1)"
   ]
  },
  {
   "cell_type": "code",
   "execution_count": 19,
   "metadata": {},
   "outputs": [
    {
     "data": {
      "text/plain": [
       "2"
      ]
     },
     "execution_count": 19,
     "metadata": {},
     "output_type": "execute_result"
    }
   ],
   "source": [
    "tictactoe_winner(winner_is_2)"
   ]
  },
  {
   "cell_type": "markdown",
   "metadata": {},
   "source": [
    "*Exercise 5:* Write a function that takes a game board, player number, and `(x,y)` coordinates and places \"X\" or \"O\" in the correct location of the game board. Make sure that you only allow filling previously empty locations. Return `True` or `False` to indicate successful placement of \"X\" or \"O\"."
   ]
  },
  {
   "cell_type": "code",
   "execution_count": 21,
   "metadata": {},
   "outputs": [],
   "source": [
    "def place_move(board, player, x, y):\n",
    "    \n",
    "    # Rows and columns\n",
    "    n = len(board)\n",
    "    m = len(board[0])\n",
    "\n",
    "    # Checks if the move is within the board border\n",
    "    if 0 <= x < n and 0 <= y < m:\n",
    "        \n",
    "        # Checks if the cell is empty\n",
    "        if board[x][y] == 0:\n",
    "            \n",
    "            # Places the players symbol\n",
    "            board[x][y] = player\n",
    "\n",
    "            # Displays the game board with the move placed \n",
    "            draw_a_board_modified(board)\n",
    "            \n",
    "            return True\n",
    "        else:\n",
    "            return False\n",
    "    else:\n",
    "        return False"
   ]
  },
  {
   "cell_type": "code",
   "execution_count": 22,
   "metadata": {},
   "outputs": [
    {
     "name": "stdout",
     "output_type": "stream",
     "text": [
      "[0, 0, 0, 0, 0]\n",
      "[0, 0, 0, 0, 0]\n",
      "[0, 0, 0, 0, 0]\n",
      "[0, 0, 0, 0, 0]\n",
      "[0, 0, 0, 0, 0]\n",
      " --- --- --- --- ---\n",
      "|   |   |   |   |   |\n",
      " --- --- --- --- ---\n",
      "|   | X |   |   |   |\n",
      " --- --- --- --- ---\n",
      "|   |   |   |   |   |\n",
      " --- --- --- --- ---\n",
      "|   |   |   |   |   |\n",
      " --- --- --- --- ---\n",
      "|   |   |   |   |   |\n",
      " --- --- --- --- ---\n"
     ]
    },
    {
     "data": {
      "text/plain": [
       "True"
      ]
     },
     "execution_count": 22,
     "metadata": {},
     "output_type": "execute_result"
    }
   ],
   "source": [
    "# Using a 3x3 board\n",
    "board_exercise5 = make_tictactoe_board(size)\n",
    "\n",
    "# Placing an X in the middle box; should return true\n",
    "place_move(board_exercise5, 1, 1, 1)"
   ]
  },
  {
   "cell_type": "code",
   "execution_count": 23,
   "metadata": {},
   "outputs": [
    {
     "data": {
      "text/plain": [
       "False"
      ]
     },
     "execution_count": 23,
     "metadata": {},
     "output_type": "execute_result"
    }
   ],
   "source": [
    "# Let's try placing an O in the middle box as well; should return False\n",
    "place_move(board_exercise5, 2, 1, 1)"
   ]
  },
  {
   "cell_type": "markdown",
   "metadata": {},
   "source": [
    "*Exercise 6:* Modify Exercise 4 to show column and row labels so that players can specify location using \"A2\" or \"C1\"."
   ]
  },
  {
   "cell_type": "code",
   "execution_count": 25,
   "metadata": {},
   "outputs": [],
   "source": [
    "# Using these from the lecture notebook since they are very useful here\n",
    "row_names = list(\"ABCDEFGHIJKLMNOPQRSTUVWXYZ\")\n",
    "row_map = dict(zip(row_names,range(size)))\n",
    "\n",
    "column_names = list(map(str,range(1,size+1)))\n",
    "column_map = dict(zip(column_names,range(size)))"
   ]
  },
  {
   "cell_type": "code",
   "execution_count": 26,
   "metadata": {},
   "outputs": [
    {
     "data": {
      "text/plain": [
       "{'A': 0, 'B': 1, 'C': 2, 'D': 3, 'E': 4}"
      ]
     },
     "execution_count": 26,
     "metadata": {},
     "output_type": "execute_result"
    }
   ],
   "source": [
    "row_map"
   ]
  },
  {
   "cell_type": "code",
   "execution_count": 27,
   "metadata": {},
   "outputs": [],
   "source": [
    "def draw_a_board_with_labels(board):\n",
    "    \n",
    "    # Counts the number of rows and columns from our matrix\n",
    "    n = len(board)\n",
    "    m = len(board[0])\n",
    "    \n",
    "    # Symbols\n",
    "    symbols = {0 : ' ', 1 : 'X', 2 : 'O'}\n",
    "\n",
    "    print(\"   \" + \"    \".join(str(col + 1) for col in range(m)))\n",
    "    \n",
    "    for i in range(n):\n",
    "        # Draws the top of the boxes\n",
    "        print('  ---' * m)\n",
    "        \n",
    "        # Labels the rows and draws the lines on the outside\n",
    "        row = f'{row_names[i]}|'\n",
    "        \n",
    "        # Adds the symbols based off the given matrix\n",
    "        for j in range(m):\n",
    "            row += f' {symbols[board[i][j]]}  |'\n",
    "        print(row)\n",
    "        \n",
    "    # Draws the bottom of the boxes seperately so it is not repeated in the middle\n",
    "    print('  ---' * m)"
   ]
  },
  {
   "cell_type": "code",
   "execution_count": 28,
   "metadata": {},
   "outputs": [
    {
     "name": "stdout",
     "output_type": "stream",
     "text": [
      "   1    2    3\n",
      "  ---  ---  ---\n",
      "A|    | X  | O  |\n",
      "  ---  ---  ---\n",
      "B| X  | O  |    |\n",
      "  ---  ---  ---\n",
      "C| X  |    | O  |\n",
      "  ---  ---  ---\n"
     ]
    }
   ],
   "source": [
    "# Using the board from exercise 2 to test it\n",
    "draw_a_board_with_labels(matrix_exercise3)"
   ]
  },
  {
   "cell_type": "code",
   "execution_count": 29,
   "metadata": {},
   "outputs": [],
   "source": [
    "# the spaces are so hard to get correct lol"
   ]
  },
  {
   "cell_type": "markdown",
   "metadata": {},
   "source": [
    "*Exercise 7:* Write a function that takes a board, player number, and location specified as in exercise 6 and then calls exercise 5 to correctly modify the board.  "
   ]
  },
  {
   "cell_type": "code",
   "execution_count": 31,
   "metadata": {},
   "outputs": [],
   "source": [
    "# Using the code from lecture notebook here to parse the players desired move\n",
    "def parse_move(string):\n",
    "    if not isinstance(string,str):\n",
    "        print_message(\"Bad Input. Location must be string.\")\n",
    "        return False\n",
    "    \n",
    "    if len(string) != 2:\n",
    "        print_message(\"Bad Input. Location must be 2 characters.\")\n",
    "        return False\n",
    "    \n",
    "    x = string[0].upper()\n",
    "    y = string[1].upper()\n",
    "    \n",
    "    if not x in row_names:\n",
    "        print_message(\"Bad Row.\")\n",
    "        return False\n",
    "\n",
    "    if not y in column_names:\n",
    "        print_message(\"Bad Column.\")\n",
    "        return False\n",
    "\n",
    "    return row_map[x],column_map[y]"
   ]
  },
  {
   "cell_type": "code",
   "execution_count": 32,
   "metadata": {},
   "outputs": [
    {
     "data": {
      "text/plain": [
       "(1, 1)"
      ]
     },
     "execution_count": 32,
     "metadata": {},
     "output_type": "execute_result"
    }
   ],
   "source": [
    "# Testing the parse function just in case!\n",
    "parse_move('B2')"
   ]
  },
  {
   "cell_type": "code",
   "execution_count": 33,
   "metadata": {},
   "outputs": [
    {
     "data": {
      "text/plain": [
       "(3, 1)"
      ]
     },
     "execution_count": 33,
     "metadata": {},
     "output_type": "execute_result"
    }
   ],
   "source": [
    "parse_move('D2')"
   ]
  },
  {
   "cell_type": "code",
   "execution_count": 34,
   "metadata": {},
   "outputs": [],
   "source": [
    "# Changing exercise 5 slightly so that the baord is printed with the labels\n",
    "def place_move_with_labels(board, player, x, y):\n",
    "    \n",
    "    # Rows and columns\n",
    "    n = len(board)\n",
    "    m = len(board[0])\n",
    "\n",
    "    # Checks if the move is within the board border\n",
    "    if 0 <= x < n and 0 <= y < m:\n",
    "        \n",
    "        # Checks if the cell is empty\n",
    "        if board[x][y] == 0:\n",
    "            \n",
    "            # Places the players symbol\n",
    "            board[x][y] = player\n",
    "\n",
    "            # Displays the game board with the move placed \n",
    "            draw_a_board_with_labels(board)\n",
    "            \n",
    "            return True\n",
    "        else:\n",
    "            return False\n",
    "    else:\n",
    "        return False"
   ]
  },
  {
   "cell_type": "code",
   "execution_count": 35,
   "metadata": {},
   "outputs": [
    {
     "name": "stdout",
     "output_type": "stream",
     "text": [
      "[0, 0, 0, 0, 0]\n",
      "[0, 0, 0, 0, 0]\n",
      "[0, 0, 0, 0, 0]\n",
      "[0, 0, 0, 0, 0]\n",
      "[0, 0, 0, 0, 0]\n"
     ]
    }
   ],
   "source": [
    "board_exercise7 = make_tictactoe_board(size)"
   ]
  },
  {
   "cell_type": "code",
   "execution_count": 36,
   "metadata": {},
   "outputs": [
    {
     "name": "stdout",
     "output_type": "stream",
     "text": [
      "   1    2    3    4    5\n",
      "  ---  ---  ---  ---  ---\n",
      "A|    |    |    |    |    |\n",
      "  ---  ---  ---  ---  ---\n",
      "B|    | X  |    |    |    |\n",
      "  ---  ---  ---  ---  ---\n",
      "C|    |    |    |    |    |\n",
      "  ---  ---  ---  ---  ---\n",
      "D|    |    |    |    |    |\n",
      "  ---  ---  ---  ---  ---\n",
      "E|    |    |    |    |    |\n",
      "  ---  ---  ---  ---  ---\n"
     ]
    },
    {
     "data": {
      "text/plain": [
       "True"
      ]
     },
     "execution_count": 36,
     "metadata": {},
     "output_type": "execute_result"
    }
   ],
   "source": [
    "place_move_with_labels(board_exercise7, 1, 1, 1)"
   ]
  },
  {
   "cell_type": "code",
   "execution_count": 37,
   "metadata": {},
   "outputs": [],
   "source": [
    "# Now, allowing the players to input the labels they see in order to make moves\n",
    "def move_with_labels(board, player, location):\n",
    "    \n",
    "    # Translates the location from the form 'letternumber' into the x, y format below\n",
    "    loc = parse_move(location)\n",
    "\n",
    "    return place_move_with_labels(board, player, loc[0], loc[1])"
   ]
  },
  {
   "cell_type": "code",
   "execution_count": 38,
   "metadata": {},
   "outputs": [
    {
     "name": "stdout",
     "output_type": "stream",
     "text": [
      "   1    2    3    4    5\n",
      "  ---  ---  ---  ---  ---\n",
      "A|    | O  |    |    |    |\n",
      "  ---  ---  ---  ---  ---\n",
      "B|    | X  |    |    |    |\n",
      "  ---  ---  ---  ---  ---\n",
      "C|    |    |    |    |    |\n",
      "  ---  ---  ---  ---  ---\n",
      "D|    |    |    |    |    |\n",
      "  ---  ---  ---  ---  ---\n",
      "E|    |    |    |    |    |\n",
      "  ---  ---  ---  ---  ---\n"
     ]
    },
    {
     "data": {
      "text/plain": [
       "True"
      ]
     },
     "execution_count": 38,
     "metadata": {},
     "output_type": "execute_result"
    }
   ],
   "source": [
    "# Testing with player 2s move!\n",
    "move_with_labels(board_exercise7, 2, 'A2')"
   ]
  },
  {
   "cell_type": "markdown",
   "metadata": {},
   "source": [
    "*Exercise 8:* Write a function is called with a board and player number, takes input from the player using python's `input`, and modifies the board using your function from exercise 7. Note that you should keep asking for input until you have gotten a valid input that results in a valid move."
   ]
  },
  {
   "cell_type": "code",
   "execution_count": 40,
   "metadata": {},
   "outputs": [],
   "source": [
    "def input_move(board, player):\n",
    "    move_complete = False\n",
    "\n",
    "    while not move_complete:\n",
    "        move_string = input('Input placement:')\n",
    "\n",
    "        try:\n",
    "            x, y = parse_move(move_string)\n",
    "\n",
    "            if board[x][y] == 0:\n",
    "                board[x][y] = player\n",
    "                move_complete = True\n",
    "            else:\n",
    "                print('Placement is not valid.')\n",
    "        except (ValueError, IndexError):\n",
    "            print('Input not valid, please enter moves in valid format (ex. A1, B2)')"
   ]
  },
  {
   "cell_type": "code",
   "execution_count": 41,
   "metadata": {},
   "outputs": [],
   "source": [
    "def tictactoe_game():\n",
    "    print('Welcome to Tic-Tac-Toe!')\n",
    "\n",
    "    # Player 1 (X) begins the game\n",
    "    current_player = 1\n",
    "\n",
    "    # Creates an empty game board \n",
    "    board_exercise8 = make_tictactoe_board(size)\n",
    "\n",
    "    # The game isn't over yet!\n",
    "    game_over = False\n",
    "    while not game_over:\n",
    "        draw_a_board_with_labels(board_exercise8)\n",
    "\n",
    "        print('Player', current_player, 'move:')\n",
    "        input_move(board_exercise8, current_player)\n",
    "        \n",
    "        if current_player == 1:\n",
    "            current_player = 2\n",
    "        else:\n",
    "            current_player = 1"
   ]
  },
  {
   "cell_type": "code",
   "execution_count": 42,
   "metadata": {},
   "outputs": [
    {
     "name": "stdout",
     "output_type": "stream",
     "text": [
      "Welcome to Tic-Tac-Toe!\n",
      "[0, 0, 0, 0, 0]\n",
      "[0, 0, 0, 0, 0]\n",
      "[0, 0, 0, 0, 0]\n",
      "[0, 0, 0, 0, 0]\n",
      "[0, 0, 0, 0, 0]\n",
      "   1    2    3    4    5\n",
      "  ---  ---  ---  ---  ---\n",
      "A|    |    |    |    |    |\n",
      "  ---  ---  ---  ---  ---\n",
      "B|    |    |    |    |    |\n",
      "  ---  ---  ---  ---  ---\n",
      "C|    |    |    |    |    |\n",
      "  ---  ---  ---  ---  ---\n",
      "D|    |    |    |    |    |\n",
      "  ---  ---  ---  ---  ---\n",
      "E|    |    |    |    |    |\n",
      "  ---  ---  ---  ---  ---\n",
      "Player 1 move:\n"
     ]
    },
    {
     "name": "stdin",
     "output_type": "stream",
     "text": [
      "Input placement: A1\n"
     ]
    },
    {
     "name": "stdout",
     "output_type": "stream",
     "text": [
      "   1    2    3    4    5\n",
      "  ---  ---  ---  ---  ---\n",
      "A| X  |    |    |    |    |\n",
      "  ---  ---  ---  ---  ---\n",
      "B|    |    |    |    |    |\n",
      "  ---  ---  ---  ---  ---\n",
      "C|    |    |    |    |    |\n",
      "  ---  ---  ---  ---  ---\n",
      "D|    |    |    |    |    |\n",
      "  ---  ---  ---  ---  ---\n",
      "E|    |    |    |    |    |\n",
      "  ---  ---  ---  ---  ---\n",
      "Player 2 move:\n"
     ]
    },
    {
     "name": "stdin",
     "output_type": "stream",
     "text": [
      "Input placement: D3\n"
     ]
    },
    {
     "name": "stdout",
     "output_type": "stream",
     "text": [
      "   1    2    3    4    5\n",
      "  ---  ---  ---  ---  ---\n",
      "A| X  |    |    |    |    |\n",
      "  ---  ---  ---  ---  ---\n",
      "B|    |    |    |    |    |\n",
      "  ---  ---  ---  ---  ---\n",
      "C|    |    |    |    |    |\n",
      "  ---  ---  ---  ---  ---\n",
      "D|    |    | O  |    |    |\n",
      "  ---  ---  ---  ---  ---\n",
      "E|    |    |    |    |    |\n",
      "  ---  ---  ---  ---  ---\n",
      "Player 1 move:\n"
     ]
    },
    {
     "name": "stdin",
     "output_type": "stream",
     "text": [
      "Input placement: B4\n"
     ]
    },
    {
     "name": "stdout",
     "output_type": "stream",
     "text": [
      "   1    2    3    4    5\n",
      "  ---  ---  ---  ---  ---\n",
      "A| X  |    |    |    |    |\n",
      "  ---  ---  ---  ---  ---\n",
      "B|    |    |    | X  |    |\n",
      "  ---  ---  ---  ---  ---\n",
      "C|    |    |    |    |    |\n",
      "  ---  ---  ---  ---  ---\n",
      "D|    |    | O  |    |    |\n",
      "  ---  ---  ---  ---  ---\n",
      "E|    |    |    |    |    |\n",
      "  ---  ---  ---  ---  ---\n",
      "Player 2 move:\n"
     ]
    },
    {
     "name": "stdin",
     "output_type": "stream",
     "text": [
      "Input placement: D2\n"
     ]
    },
    {
     "name": "stdout",
     "output_type": "stream",
     "text": [
      "   1    2    3    4    5\n",
      "  ---  ---  ---  ---  ---\n",
      "A| X  |    |    |    |    |\n",
      "  ---  ---  ---  ---  ---\n",
      "B|    |    |    | X  |    |\n",
      "  ---  ---  ---  ---  ---\n",
      "C|    |    |    |    |    |\n",
      "  ---  ---  ---  ---  ---\n",
      "D|    | O  | O  |    |    |\n",
      "  ---  ---  ---  ---  ---\n",
      "E|    |    |    |    |    |\n",
      "  ---  ---  ---  ---  ---\n",
      "Player 1 move:\n"
     ]
    },
    {
     "name": "stdin",
     "output_type": "stream",
     "text": [
      "Input placement: D1\n"
     ]
    },
    {
     "name": "stdout",
     "output_type": "stream",
     "text": [
      "   1    2    3    4    5\n",
      "  ---  ---  ---  ---  ---\n",
      "A| X  |    |    |    |    |\n",
      "  ---  ---  ---  ---  ---\n",
      "B|    |    |    | X  |    |\n",
      "  ---  ---  ---  ---  ---\n",
      "C|    |    |    |    |    |\n",
      "  ---  ---  ---  ---  ---\n",
      "D| X  | O  | O  |    |    |\n",
      "  ---  ---  ---  ---  ---\n",
      "E|    |    |    |    |    |\n",
      "  ---  ---  ---  ---  ---\n",
      "Player 2 move:\n"
     ]
    },
    {
     "ename": "KeyboardInterrupt",
     "evalue": "Interrupted by user",
     "output_type": "error",
     "traceback": [
      "\u001b[0;31m---------------------------------------------------------------------------\u001b[0m",
      "\u001b[0;31mKeyboardInterrupt\u001b[0m                         Traceback (most recent call last)",
      "Cell \u001b[0;32mIn[42], line 1\u001b[0m\n\u001b[0;32m----> 1\u001b[0m tictactoe_game()\n",
      "Cell \u001b[0;32mIn[41], line 16\u001b[0m, in \u001b[0;36mtictactoe_game\u001b[0;34m()\u001b[0m\n\u001b[1;32m     13\u001b[0m draw_a_board_with_labels(board_exercise8)\n\u001b[1;32m     15\u001b[0m \u001b[38;5;28mprint\u001b[39m(\u001b[38;5;124m'\u001b[39m\u001b[38;5;124mPlayer\u001b[39m\u001b[38;5;124m'\u001b[39m, current_player, \u001b[38;5;124m'\u001b[39m\u001b[38;5;124mmove:\u001b[39m\u001b[38;5;124m'\u001b[39m)\n\u001b[0;32m---> 16\u001b[0m input_move(board_exercise8, current_player)\n\u001b[1;32m     18\u001b[0m \u001b[38;5;28;01mif\u001b[39;00m current_player \u001b[38;5;241m==\u001b[39m \u001b[38;5;241m1\u001b[39m:\n\u001b[1;32m     19\u001b[0m     current_player \u001b[38;5;241m=\u001b[39m \u001b[38;5;241m2\u001b[39m\n",
      "Cell \u001b[0;32mIn[40], line 5\u001b[0m, in \u001b[0;36minput_move\u001b[0;34m(board, player)\u001b[0m\n\u001b[1;32m      2\u001b[0m move_complete \u001b[38;5;241m=\u001b[39m \u001b[38;5;28;01mFalse\u001b[39;00m\n\u001b[1;32m      4\u001b[0m \u001b[38;5;28;01mwhile\u001b[39;00m \u001b[38;5;129;01mnot\u001b[39;00m move_complete:\n\u001b[0;32m----> 5\u001b[0m     move_string \u001b[38;5;241m=\u001b[39m \u001b[38;5;28minput\u001b[39m(\u001b[38;5;124m'\u001b[39m\u001b[38;5;124mInput placement:\u001b[39m\u001b[38;5;124m'\u001b[39m)\n\u001b[1;32m      7\u001b[0m     \u001b[38;5;28;01mtry\u001b[39;00m:\n\u001b[1;32m      8\u001b[0m         x, y \u001b[38;5;241m=\u001b[39m parse_move(move_string)\n",
      "File \u001b[0;32m/opt/anaconda3/lib/python3.11/site-packages/ipykernel/kernelbase.py:1262\u001b[0m, in \u001b[0;36mKernel.raw_input\u001b[0;34m(self, prompt)\u001b[0m\n\u001b[1;32m   1260\u001b[0m     msg \u001b[38;5;241m=\u001b[39m \u001b[38;5;124m\"\u001b[39m\u001b[38;5;124mraw_input was called, but this frontend does not support input requests.\u001b[39m\u001b[38;5;124m\"\u001b[39m\n\u001b[1;32m   1261\u001b[0m     \u001b[38;5;28;01mraise\u001b[39;00m StdinNotImplementedError(msg)\n\u001b[0;32m-> 1262\u001b[0m \u001b[38;5;28;01mreturn\u001b[39;00m \u001b[38;5;28mself\u001b[39m\u001b[38;5;241m.\u001b[39m_input_request(\n\u001b[1;32m   1263\u001b[0m     \u001b[38;5;28mstr\u001b[39m(prompt),\n\u001b[1;32m   1264\u001b[0m     \u001b[38;5;28mself\u001b[39m\u001b[38;5;241m.\u001b[39m_parent_ident[\u001b[38;5;124m\"\u001b[39m\u001b[38;5;124mshell\u001b[39m\u001b[38;5;124m\"\u001b[39m],\n\u001b[1;32m   1265\u001b[0m     \u001b[38;5;28mself\u001b[39m\u001b[38;5;241m.\u001b[39mget_parent(\u001b[38;5;124m\"\u001b[39m\u001b[38;5;124mshell\u001b[39m\u001b[38;5;124m\"\u001b[39m),\n\u001b[1;32m   1266\u001b[0m     password\u001b[38;5;241m=\u001b[39m\u001b[38;5;28;01mFalse\u001b[39;00m,\n\u001b[1;32m   1267\u001b[0m )\n",
      "File \u001b[0;32m/opt/anaconda3/lib/python3.11/site-packages/ipykernel/kernelbase.py:1305\u001b[0m, in \u001b[0;36mKernel._input_request\u001b[0;34m(self, prompt, ident, parent, password)\u001b[0m\n\u001b[1;32m   1302\u001b[0m \u001b[38;5;28;01mexcept\u001b[39;00m \u001b[38;5;167;01mKeyboardInterrupt\u001b[39;00m:\n\u001b[1;32m   1303\u001b[0m     \u001b[38;5;66;03m# re-raise KeyboardInterrupt, to truncate traceback\u001b[39;00m\n\u001b[1;32m   1304\u001b[0m     msg \u001b[38;5;241m=\u001b[39m \u001b[38;5;124m\"\u001b[39m\u001b[38;5;124mInterrupted by user\u001b[39m\u001b[38;5;124m\"\u001b[39m\n\u001b[0;32m-> 1305\u001b[0m     \u001b[38;5;28;01mraise\u001b[39;00m \u001b[38;5;167;01mKeyboardInterrupt\u001b[39;00m(msg) \u001b[38;5;28;01mfrom\u001b[39;00m \u001b[38;5;28;01mNone\u001b[39;00m\n\u001b[1;32m   1306\u001b[0m \u001b[38;5;28;01mexcept\u001b[39;00m \u001b[38;5;167;01mException\u001b[39;00m:\n\u001b[1;32m   1307\u001b[0m     \u001b[38;5;28mself\u001b[39m\u001b[38;5;241m.\u001b[39mlog\u001b[38;5;241m.\u001b[39mwarning(\u001b[38;5;124m\"\u001b[39m\u001b[38;5;124mInvalid Message:\u001b[39m\u001b[38;5;124m\"\u001b[39m, exc_info\u001b[38;5;241m=\u001b[39m\u001b[38;5;28;01mTrue\u001b[39;00m)\n",
      "\u001b[0;31mKeyboardInterrupt\u001b[0m: Interrupted by user"
     ]
    }
   ],
   "source": [
    "tictactoe_game()"
   ]
  },
  {
   "cell_type": "markdown",
   "metadata": {},
   "source": [
    "*Exercise 9:* Use all of the previous exercises to implement a full tic-tac-toe game, where an appropriate board is drawn, 2 players are repeatedly asked for a location coordinates of where they wish to place a mark, and the game status is checked until a player wins or a draw occurs."
   ]
  },
  {
   "cell_type": "code",
   "execution_count": 43,
   "metadata": {},
   "outputs": [],
   "source": [
    "def final_tictactoe_game():\n",
    "    print('Welcome to Tic-Tac-Toe!')\n",
    "\n",
    "    # Player 1 (X) begins the game\n",
    "    current_player = 1\n",
    "\n",
    "    # Creates an empty game board \n",
    "    board_exercise9 = make_tictactoe_board(size)\n",
    "\n",
    "    # The game isn't over yet!\n",
    "    game_over = False\n",
    "    while not game_over:\n",
    "        draw_a_board_with_labels(board_exercise9)\n",
    "\n",
    "        # Asks the current player for their move\n",
    "        print('Player', current_player, 'move:')\n",
    "        input_move(board_exercise9, current_player)\n",
    "\n",
    "        # Checks to see if the game has been won yet!\n",
    "        result = tictactoe_winner(board_exercise9)\n",
    "\n",
    "        if result == 1:\n",
    "            draw_a_board_with_labels(board_exercise9)\n",
    "            print('Player 1 wins!')\n",
    "            game_over = True\n",
    "        elif result == 2:\n",
    "            draw_a_board_with_labels(board_exercise9)\n",
    "            print('Player 2 wins!')\n",
    "            game_over = True\n",
    "        elif result == 0:\n",
    "            draw_a_board_with_labels(board_exercise9)\n",
    "            print(\"It's a draw!\")\n",
    "            game_over = True\n",
    "            \n",
    "        # Switches to the other player\n",
    "        else:\n",
    "            if current_player == 1:\n",
    "                current_player = 2\n",
    "            else:\n",
    "                current_player = 1"
   ]
  },
  {
   "cell_type": "code",
   "execution_count": 45,
   "metadata": {},
   "outputs": [
    {
     "name": "stdout",
     "output_type": "stream",
     "text": [
      "Welcome to Tic-Tac-Toe!\n",
      "[0, 0, 0, 0, 0]\n",
      "[0, 0, 0, 0, 0]\n",
      "[0, 0, 0, 0, 0]\n",
      "[0, 0, 0, 0, 0]\n",
      "[0, 0, 0, 0, 0]\n",
      "   1    2    3    4    5\n",
      "  ---  ---  ---  ---  ---\n",
      "A|    |    |    |    |    |\n",
      "  ---  ---  ---  ---  ---\n",
      "B|    |    |    |    |    |\n",
      "  ---  ---  ---  ---  ---\n",
      "C|    |    |    |    |    |\n",
      "  ---  ---  ---  ---  ---\n",
      "D|    |    |    |    |    |\n",
      "  ---  ---  ---  ---  ---\n",
      "E|    |    |    |    |    |\n",
      "  ---  ---  ---  ---  ---\n",
      "Player 1 move:\n"
     ]
    },
    {
     "ename": "KeyboardInterrupt",
     "evalue": "Interrupted by user",
     "output_type": "error",
     "traceback": [
      "\u001b[0;31m---------------------------------------------------------------------------\u001b[0m",
      "\u001b[0;31mKeyboardInterrupt\u001b[0m                         Traceback (most recent call last)",
      "Cell \u001b[0;32mIn[45], line 1\u001b[0m\n\u001b[0;32m----> 1\u001b[0m final_tictactoe_game()\n",
      "Cell \u001b[0;32mIn[43], line 17\u001b[0m, in \u001b[0;36mfinal_tictactoe_game\u001b[0;34m()\u001b[0m\n\u001b[1;32m     15\u001b[0m \u001b[38;5;66;03m# Asks the current player for their move\u001b[39;00m\n\u001b[1;32m     16\u001b[0m \u001b[38;5;28mprint\u001b[39m(\u001b[38;5;124m'\u001b[39m\u001b[38;5;124mPlayer\u001b[39m\u001b[38;5;124m'\u001b[39m, current_player, \u001b[38;5;124m'\u001b[39m\u001b[38;5;124mmove:\u001b[39m\u001b[38;5;124m'\u001b[39m)\n\u001b[0;32m---> 17\u001b[0m input_move(board_exercise9, current_player)\n\u001b[1;32m     19\u001b[0m \u001b[38;5;66;03m# Checks to see if the game has been won yet!\u001b[39;00m\n\u001b[1;32m     20\u001b[0m result \u001b[38;5;241m=\u001b[39m tictactoe_winner(board_exercise9)\n",
      "Cell \u001b[0;32mIn[40], line 5\u001b[0m, in \u001b[0;36minput_move\u001b[0;34m(board, player)\u001b[0m\n\u001b[1;32m      2\u001b[0m move_complete \u001b[38;5;241m=\u001b[39m \u001b[38;5;28;01mFalse\u001b[39;00m\n\u001b[1;32m      4\u001b[0m \u001b[38;5;28;01mwhile\u001b[39;00m \u001b[38;5;129;01mnot\u001b[39;00m move_complete:\n\u001b[0;32m----> 5\u001b[0m     move_string \u001b[38;5;241m=\u001b[39m \u001b[38;5;28minput\u001b[39m(\u001b[38;5;124m'\u001b[39m\u001b[38;5;124mInput placement:\u001b[39m\u001b[38;5;124m'\u001b[39m)\n\u001b[1;32m      7\u001b[0m     \u001b[38;5;28;01mtry\u001b[39;00m:\n\u001b[1;32m      8\u001b[0m         x, y \u001b[38;5;241m=\u001b[39m parse_move(move_string)\n",
      "File \u001b[0;32m/opt/anaconda3/lib/python3.11/site-packages/ipykernel/kernelbase.py:1262\u001b[0m, in \u001b[0;36mKernel.raw_input\u001b[0;34m(self, prompt)\u001b[0m\n\u001b[1;32m   1260\u001b[0m     msg \u001b[38;5;241m=\u001b[39m \u001b[38;5;124m\"\u001b[39m\u001b[38;5;124mraw_input was called, but this frontend does not support input requests.\u001b[39m\u001b[38;5;124m\"\u001b[39m\n\u001b[1;32m   1261\u001b[0m     \u001b[38;5;28;01mraise\u001b[39;00m StdinNotImplementedError(msg)\n\u001b[0;32m-> 1262\u001b[0m \u001b[38;5;28;01mreturn\u001b[39;00m \u001b[38;5;28mself\u001b[39m\u001b[38;5;241m.\u001b[39m_input_request(\n\u001b[1;32m   1263\u001b[0m     \u001b[38;5;28mstr\u001b[39m(prompt),\n\u001b[1;32m   1264\u001b[0m     \u001b[38;5;28mself\u001b[39m\u001b[38;5;241m.\u001b[39m_parent_ident[\u001b[38;5;124m\"\u001b[39m\u001b[38;5;124mshell\u001b[39m\u001b[38;5;124m\"\u001b[39m],\n\u001b[1;32m   1265\u001b[0m     \u001b[38;5;28mself\u001b[39m\u001b[38;5;241m.\u001b[39mget_parent(\u001b[38;5;124m\"\u001b[39m\u001b[38;5;124mshell\u001b[39m\u001b[38;5;124m\"\u001b[39m),\n\u001b[1;32m   1266\u001b[0m     password\u001b[38;5;241m=\u001b[39m\u001b[38;5;28;01mFalse\u001b[39;00m,\n\u001b[1;32m   1267\u001b[0m )\n",
      "File \u001b[0;32m/opt/anaconda3/lib/python3.11/site-packages/ipykernel/kernelbase.py:1305\u001b[0m, in \u001b[0;36mKernel._input_request\u001b[0;34m(self, prompt, ident, parent, password)\u001b[0m\n\u001b[1;32m   1302\u001b[0m \u001b[38;5;28;01mexcept\u001b[39;00m \u001b[38;5;167;01mKeyboardInterrupt\u001b[39;00m:\n\u001b[1;32m   1303\u001b[0m     \u001b[38;5;66;03m# re-raise KeyboardInterrupt, to truncate traceback\u001b[39;00m\n\u001b[1;32m   1304\u001b[0m     msg \u001b[38;5;241m=\u001b[39m \u001b[38;5;124m\"\u001b[39m\u001b[38;5;124mInterrupted by user\u001b[39m\u001b[38;5;124m\"\u001b[39m\n\u001b[0;32m-> 1305\u001b[0m     \u001b[38;5;28;01mraise\u001b[39;00m \u001b[38;5;167;01mKeyboardInterrupt\u001b[39;00m(msg) \u001b[38;5;28;01mfrom\u001b[39;00m \u001b[38;5;28;01mNone\u001b[39;00m\n\u001b[1;32m   1306\u001b[0m \u001b[38;5;28;01mexcept\u001b[39;00m \u001b[38;5;167;01mException\u001b[39;00m:\n\u001b[1;32m   1307\u001b[0m     \u001b[38;5;28mself\u001b[39m\u001b[38;5;241m.\u001b[39mlog\u001b[38;5;241m.\u001b[39mwarning(\u001b[38;5;124m\"\u001b[39m\u001b[38;5;124mInvalid Message:\u001b[39m\u001b[38;5;124m\"\u001b[39m, exc_info\u001b[38;5;241m=\u001b[39m\u001b[38;5;28;01mTrue\u001b[39;00m)\n",
      "\u001b[0;31mKeyboardInterrupt\u001b[0m: Interrupted by user"
     ]
    }
   ],
   "source": [
    "final_tictactoe_game()"
   ]
  },
  {
   "cell_type": "markdown",
   "metadata": {},
   "source": [
    "*Exercise 10:* Test that your game works for 5x5 Tic Tac Toe.  "
   ]
  },
  {
   "cell_type": "code",
   "execution_count": 47,
   "metadata": {},
   "outputs": [
    {
     "name": "stdout",
     "output_type": "stream",
     "text": [
      "Welcome to Tic-Tac-Toe!\n",
      "[0, 0, 0, 0, 0]\n",
      "[0, 0, 0, 0, 0]\n",
      "[0, 0, 0, 0, 0]\n",
      "[0, 0, 0, 0, 0]\n",
      "[0, 0, 0, 0, 0]\n",
      "   1    2    3    4    5\n",
      "  ---  ---  ---  ---  ---\n",
      "A|    |    |    |    |    |\n",
      "  ---  ---  ---  ---  ---\n",
      "B|    |    |    |    |    |\n",
      "  ---  ---  ---  ---  ---\n",
      "C|    |    |    |    |    |\n",
      "  ---  ---  ---  ---  ---\n",
      "D|    |    |    |    |    |\n",
      "  ---  ---  ---  ---  ---\n",
      "E|    |    |    |    |    |\n",
      "  ---  ---  ---  ---  ---\n",
      "Player 1 move:\n"
     ]
    },
    {
     "ename": "KeyboardInterrupt",
     "evalue": "Interrupted by user",
     "output_type": "error",
     "traceback": [
      "\u001b[0;31m---------------------------------------------------------------------------\u001b[0m",
      "\u001b[0;31mKeyboardInterrupt\u001b[0m                         Traceback (most recent call last)",
      "Cell \u001b[0;32mIn[47], line 2\u001b[0m\n\u001b[1;32m      1\u001b[0m size \u001b[38;5;241m=\u001b[39m \u001b[38;5;241m5\u001b[39m\n\u001b[0;32m----> 2\u001b[0m final_tictactoe_game()\n",
      "Cell \u001b[0;32mIn[43], line 17\u001b[0m, in \u001b[0;36mfinal_tictactoe_game\u001b[0;34m()\u001b[0m\n\u001b[1;32m     15\u001b[0m \u001b[38;5;66;03m# Asks the current player for their move\u001b[39;00m\n\u001b[1;32m     16\u001b[0m \u001b[38;5;28mprint\u001b[39m(\u001b[38;5;124m'\u001b[39m\u001b[38;5;124mPlayer\u001b[39m\u001b[38;5;124m'\u001b[39m, current_player, \u001b[38;5;124m'\u001b[39m\u001b[38;5;124mmove:\u001b[39m\u001b[38;5;124m'\u001b[39m)\n\u001b[0;32m---> 17\u001b[0m input_move(board_exercise9, current_player)\n\u001b[1;32m     19\u001b[0m \u001b[38;5;66;03m# Checks to see if the game has been won yet!\u001b[39;00m\n\u001b[1;32m     20\u001b[0m result \u001b[38;5;241m=\u001b[39m tictactoe_winner(board_exercise9)\n",
      "Cell \u001b[0;32mIn[40], line 5\u001b[0m, in \u001b[0;36minput_move\u001b[0;34m(board, player)\u001b[0m\n\u001b[1;32m      2\u001b[0m move_complete \u001b[38;5;241m=\u001b[39m \u001b[38;5;28;01mFalse\u001b[39;00m\n\u001b[1;32m      4\u001b[0m \u001b[38;5;28;01mwhile\u001b[39;00m \u001b[38;5;129;01mnot\u001b[39;00m move_complete:\n\u001b[0;32m----> 5\u001b[0m     move_string \u001b[38;5;241m=\u001b[39m \u001b[38;5;28minput\u001b[39m(\u001b[38;5;124m'\u001b[39m\u001b[38;5;124mInput placement:\u001b[39m\u001b[38;5;124m'\u001b[39m)\n\u001b[1;32m      7\u001b[0m     \u001b[38;5;28;01mtry\u001b[39;00m:\n\u001b[1;32m      8\u001b[0m         x, y \u001b[38;5;241m=\u001b[39m parse_move(move_string)\n",
      "File \u001b[0;32m/opt/anaconda3/lib/python3.11/site-packages/ipykernel/kernelbase.py:1262\u001b[0m, in \u001b[0;36mKernel.raw_input\u001b[0;34m(self, prompt)\u001b[0m\n\u001b[1;32m   1260\u001b[0m     msg \u001b[38;5;241m=\u001b[39m \u001b[38;5;124m\"\u001b[39m\u001b[38;5;124mraw_input was called, but this frontend does not support input requests.\u001b[39m\u001b[38;5;124m\"\u001b[39m\n\u001b[1;32m   1261\u001b[0m     \u001b[38;5;28;01mraise\u001b[39;00m StdinNotImplementedError(msg)\n\u001b[0;32m-> 1262\u001b[0m \u001b[38;5;28;01mreturn\u001b[39;00m \u001b[38;5;28mself\u001b[39m\u001b[38;5;241m.\u001b[39m_input_request(\n\u001b[1;32m   1263\u001b[0m     \u001b[38;5;28mstr\u001b[39m(prompt),\n\u001b[1;32m   1264\u001b[0m     \u001b[38;5;28mself\u001b[39m\u001b[38;5;241m.\u001b[39m_parent_ident[\u001b[38;5;124m\"\u001b[39m\u001b[38;5;124mshell\u001b[39m\u001b[38;5;124m\"\u001b[39m],\n\u001b[1;32m   1265\u001b[0m     \u001b[38;5;28mself\u001b[39m\u001b[38;5;241m.\u001b[39mget_parent(\u001b[38;5;124m\"\u001b[39m\u001b[38;5;124mshell\u001b[39m\u001b[38;5;124m\"\u001b[39m),\n\u001b[1;32m   1266\u001b[0m     password\u001b[38;5;241m=\u001b[39m\u001b[38;5;28;01mFalse\u001b[39;00m,\n\u001b[1;32m   1267\u001b[0m )\n",
      "File \u001b[0;32m/opt/anaconda3/lib/python3.11/site-packages/ipykernel/kernelbase.py:1305\u001b[0m, in \u001b[0;36mKernel._input_request\u001b[0;34m(self, prompt, ident, parent, password)\u001b[0m\n\u001b[1;32m   1302\u001b[0m \u001b[38;5;28;01mexcept\u001b[39;00m \u001b[38;5;167;01mKeyboardInterrupt\u001b[39;00m:\n\u001b[1;32m   1303\u001b[0m     \u001b[38;5;66;03m# re-raise KeyboardInterrupt, to truncate traceback\u001b[39;00m\n\u001b[1;32m   1304\u001b[0m     msg \u001b[38;5;241m=\u001b[39m \u001b[38;5;124m\"\u001b[39m\u001b[38;5;124mInterrupted by user\u001b[39m\u001b[38;5;124m\"\u001b[39m\n\u001b[0;32m-> 1305\u001b[0m     \u001b[38;5;28;01mraise\u001b[39;00m \u001b[38;5;167;01mKeyboardInterrupt\u001b[39;00m(msg) \u001b[38;5;28;01mfrom\u001b[39;00m \u001b[38;5;28;01mNone\u001b[39;00m\n\u001b[1;32m   1306\u001b[0m \u001b[38;5;28;01mexcept\u001b[39;00m \u001b[38;5;167;01mException\u001b[39;00m:\n\u001b[1;32m   1307\u001b[0m     \u001b[38;5;28mself\u001b[39m\u001b[38;5;241m.\u001b[39mlog\u001b[38;5;241m.\u001b[39mwarning(\u001b[38;5;124m\"\u001b[39m\u001b[38;5;124mInvalid Message:\u001b[39m\u001b[38;5;124m\"\u001b[39m, exc_info\u001b[38;5;241m=\u001b[39m\u001b[38;5;28;01mTrue\u001b[39;00m)\n",
      "\u001b[0;31mKeyboardInterrupt\u001b[0m: Interrupted by user"
     ]
    }
   ],
   "source": [
    "size = 5\n",
    "final_tictactoe_game()"
   ]
  },
  {
   "cell_type": "markdown",
   "metadata": {},
   "source": [
    "*Exercise 11:* (Advanced / Challenge) Develop a version of the game where one player is the computer. Note that you don't need to do an extensive seach for the best move. You can have the computer simply protect against loosing and otherwise try to win with straight or diagonal patterns."
   ]
  },
  {
   "cell_type": "code",
   "execution_count": null,
   "metadata": {},
   "outputs": [],
   "source": [
    "# Write you solution here"
   ]
  },
  {
   "cell_type": "code",
   "execution_count": null,
   "metadata": {},
   "outputs": [],
   "source": [
    "# Test your solution here"
   ]
  }
 ],
 "metadata": {
  "kernelspec": {
   "display_name": "Python 3 (ipykernel)",
   "language": "python",
   "name": "python3"
  },
  "language_info": {
   "codemirror_mode": {
    "name": "ipython",
    "version": 3
   },
   "file_extension": ".py",
   "mimetype": "text/x-python",
   "name": "python",
   "nbconvert_exporter": "python",
   "pygments_lexer": "ipython3",
   "version": "3.11.7"
  }
 },
 "nbformat": 4,
 "nbformat_minor": 4
}
